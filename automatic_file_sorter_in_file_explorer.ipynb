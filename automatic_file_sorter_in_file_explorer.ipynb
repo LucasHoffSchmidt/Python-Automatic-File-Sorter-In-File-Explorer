{
 "cells": [
  {
   "cell_type": "markdown",
   "id": "db8e756a-5f3b-46cc-8ddc-854112e950f8",
   "metadata": {},
   "source": [
    "# Automatic File Sorter in File Explorer"
   ]
  },
  {
   "cell_type": "code",
   "execution_count": 3,
   "id": "c397d959-314a-4c47-a386-de69eed2fcac",
   "metadata": {},
   "outputs": [],
   "source": [
    "import os, shutil"
   ]
  },
  {
   "cell_type": "code",
   "execution_count": 17,
   "id": "b44bb1bc-425e-40f4-aed6-0ea9d373da3a",
   "metadata": {},
   "outputs": [],
   "source": [
    "# Get a reference to the path\n",
    "path = r\"C:/Users/lucas/Desktop/Software_Development/Data Analytics/Python/Projects/Automatic file sorter in file explorer/\""
   ]
  },
  {
   "cell_type": "code",
   "execution_count": 27,
   "id": "4f1c57af-109d-4de7-8614-e18a6af7fa59",
   "metadata": {},
   "outputs": [
    {
     "name": "stdout",
     "output_type": "stream",
     "text": [
      "['automatic_file_sorter_in_file_explorer.ipynb', 'ExcelDocument.ods', 'image files', 'ods files', 'PhotoFile.bmp', 'text files', 'TextDocument.txt']\n"
     ]
    }
   ],
   "source": [
    "# List all files in the path\n",
    "file_name = os.listdir(path)\n",
    "print(file_name)"
   ]
  },
  {
   "cell_type": "code",
   "execution_count": 35,
   "id": "fc65b8c8-e016-4812-ac81-88f975f05c8d",
   "metadata": {},
   "outputs": [],
   "source": [
    "# Create folders if they do not exist\n",
    "folder_names = [\"ods files\", \"image files\", \"text files\"]\n",
    "\n",
    "for loop in range(0, 3):\n",
    "    if not os.path.exists(path + folder_names[loop]):\n",
    "        #print(path + folder_names[loop])\n",
    "        os.makedirs(path + folder_names[loop])\n",
    "\n",
    "# Move files into folders if they have not been moved already\n",
    "for file in file_name:\n",
    "    if \".ods\" in file and not os.path.exists(path + \"ods files/\" + file):\n",
    "        shutil.move(path + file, path + \"ods files/\" + file)\n",
    "    elif \".bmp\" in file and not os.path.exists(path + \"image files/\" + file):\n",
    "        shutil.move(path + file, path + \"image files/\" + file)\n",
    "    elif \".txt\" in file and not os.path.exists(path + \"text files/\" + file):\n",
    "        shutil.move(path + file, path + \"text files/\" + file)"
   ]
  }
 ],
 "metadata": {
  "kernelspec": {
   "display_name": "Python 3 (ipykernel)",
   "language": "python",
   "name": "python3"
  },
  "language_info": {
   "codemirror_mode": {
    "name": "ipython",
    "version": 3
   },
   "file_extension": ".py",
   "mimetype": "text/x-python",
   "name": "python",
   "nbconvert_exporter": "python",
   "pygments_lexer": "ipython3",
   "version": "3.12.4"
  }
 },
 "nbformat": 4,
 "nbformat_minor": 5
}
